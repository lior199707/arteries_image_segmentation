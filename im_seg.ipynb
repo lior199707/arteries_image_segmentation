{
 "cells": [
  {
   "cell_type": "code",
   "execution_count": null,
   "metadata": {},
   "outputs": [
    {
     "name": "stdout",
     "output_type": "stream",
     "text": [
      "Collecting ffmpeg-pythonNote: you may need to restart the kernel to use updated packages.\n",
      "\n",
      "  Using cached ffmpeg_python-0.2.0-py3-none-any.whl.metadata (1.7 kB)\n",
      "Requirement already satisfied: future in d:\\python310\\lib\\site-packages (from ffmpeg-python) (1.0.0)\n",
      "Using cached ffmpeg_python-0.2.0-py3-none-any.whl (25 kB)\n",
      "Installing collected packages: ffmpeg-python\n",
      "Successfully installed ffmpeg-python-0.2.0\n"
     ]
    },
    {
     "name": "stderr",
     "output_type": "stream",
     "text": [
      "WARNING: Ignoring invalid distribution -upyterlab (d:\\python310\\lib\\site-packages)\n",
      "WARNING: Ignoring invalid distribution -upyterlab (d:\\python310\\lib\\site-packages)\n",
      "\n",
      "[notice] A new release of pip is available: 24.0 -> 24.3.1\n",
      "[notice] To update, run: python.exe -m pip install --upgrade pip\n"
     ]
    }
   ],
   "source": [
    "%pip install ffmpeg-python"
   ]
  },
  {
   "cell_type": "markdown",
   "metadata": {},
   "source": [
    "# Imports"
   ]
  },
  {
   "cell_type": "code",
   "execution_count": 1,
   "metadata": {},
   "outputs": [],
   "source": [
    "import ffmpeg\n",
    "import os"
   ]
  },
  {
   "cell_type": "markdown",
   "metadata": {},
   "source": [
    "# Extract Photos From Videos"
   ]
  },
  {
   "cell_type": "code",
   "execution_count": null,
   "metadata": {},
   "outputs": [],
   "source": [
    "os.makedirs(\"Img\", exist_ok=True)"
   ]
  },
  {
   "cell_type": "code",
   "execution_count": null,
   "metadata": {},
   "outputs": [],
   "source": [
    "def extract_images_from_video(video_folder, video_name, output_folder_name, fps =1, crop_width=953, crop_height=700, output_width=1024, output_height=1024):\n",
    "    # Create output directory\n",
    "    output_path = os.path.join('Img', output_folder_name)\n",
    "    os.makedirs(output_path, exist_ok=True)\n",
    "\n",
    "    # Define crop filter with scaling\n",
    "    # First crop, then scale\n",
    "    filter_chain = f\"crop={crop_width}:{crop_height}:647:100,scale={output_width}:{output_height}\"\n",
    "\n",
    "    # Input video and output frames with cropping and scaling\n",
    "    video = ffmpeg.input(os.path.join(os.getcwd(), video_folder, video_name))\n",
    "    video.output(\n",
    "        os.path.join(output_path, 'frame_%04d.png'),\n",
    "        vf=f\"fps={fps},{filter_chain}\"\n",
    "    ).run()\n",
    "\n",
    "    print(f\"Frames cropped, scaled, and saved to {output_path}\")"
   ]
  },
  {
   "cell_type": "code",
   "execution_count": null,
   "metadata": {},
   "outputs": [
    {
     "name": "stdout",
     "output_type": "stream",
     "text": [
      "d:\\Python projects\\arteries_image_segmentation\\input.mp4\n"
     ]
    },
    {
     "ename": "FileNotFoundError",
     "evalue": "[WinError 2] The system cannot find the file specified",
     "output_type": "error",
     "traceback": [
      "\u001b[1;31m---------------------------------------------------------------------------\u001b[0m",
      "\u001b[1;31mFileNotFoundError\u001b[0m                         Traceback (most recent call last)",
      "Cell \u001b[1;32mIn[55], line 7\u001b[0m\n\u001b[0;32m      4\u001b[0m \u001b[38;5;28mprint\u001b[39m(video_path)\n\u001b[0;32m      6\u001b[0m \u001b[38;5;66;03m# Check if the file exists\u001b[39;00m\n\u001b[1;32m----> 7\u001b[0m \u001b[43mffmpeg\u001b[49m\u001b[38;5;241;43m.\u001b[39;49m\u001b[43minput\u001b[49m\u001b[43m(\u001b[49m\u001b[43mvideo_path\u001b[49m\u001b[43m)\u001b[49m\u001b[38;5;241;43m.\u001b[39;49m\u001b[43moutput\u001b[49m\u001b[43m(\u001b[49m\u001b[38;5;124;43m\"\u001b[39;49m\u001b[38;5;124;43mout_\u001b[39;49m\u001b[38;5;132;43;01m%d\u001b[39;49;00m\u001b[38;5;124;43m.png\u001b[39;49m\u001b[38;5;124;43m\"\u001b[39;49m\u001b[43m,\u001b[49m\u001b[43m \u001b[49m\u001b[43mvframes\u001b[49m\u001b[38;5;241;43m=\u001b[39;49m\u001b[38;5;241;43m1\u001b[39;49m\u001b[43m)\u001b[49m\u001b[38;5;241;43m.\u001b[39;49m\u001b[43mrun\u001b[49m\u001b[43m(\u001b[49m\u001b[43m)\u001b[49m\n",
      "File \u001b[1;32md:\\Python310\\lib\\site-packages\\ffmpeg\\_run.py:313\u001b[0m, in \u001b[0;36mrun\u001b[1;34m(stream_spec, cmd, capture_stdout, capture_stderr, input, quiet, overwrite_output)\u001b[0m\n\u001b[0;32m    289\u001b[0m \u001b[38;5;129m@output_operator\u001b[39m()\n\u001b[0;32m    290\u001b[0m \u001b[38;5;28;01mdef\u001b[39;00m \u001b[38;5;21mrun\u001b[39m(\n\u001b[0;32m    291\u001b[0m     stream_spec,\n\u001b[1;32m   (...)\u001b[0m\n\u001b[0;32m    297\u001b[0m     overwrite_output\u001b[38;5;241m=\u001b[39m\u001b[38;5;28;01mFalse\u001b[39;00m,\n\u001b[0;32m    298\u001b[0m ):\n\u001b[0;32m    299\u001b[0m     \u001b[38;5;124;03m\"\"\"Invoke ffmpeg for the supplied node graph.\u001b[39;00m\n\u001b[0;32m    300\u001b[0m \n\u001b[0;32m    301\u001b[0m \u001b[38;5;124;03m    Args:\u001b[39;00m\n\u001b[1;32m   (...)\u001b[0m\n\u001b[0;32m    311\u001b[0m \u001b[38;5;124;03m    Returns: (out, err) tuple containing captured stdout and stderr data.\u001b[39;00m\n\u001b[0;32m    312\u001b[0m \u001b[38;5;124;03m    \"\"\"\u001b[39;00m\n\u001b[1;32m--> 313\u001b[0m     process \u001b[38;5;241m=\u001b[39m \u001b[43mrun_async\u001b[49m\u001b[43m(\u001b[49m\n\u001b[0;32m    314\u001b[0m \u001b[43m        \u001b[49m\u001b[43mstream_spec\u001b[49m\u001b[43m,\u001b[49m\n\u001b[0;32m    315\u001b[0m \u001b[43m        \u001b[49m\u001b[43mcmd\u001b[49m\u001b[43m,\u001b[49m\n\u001b[0;32m    316\u001b[0m \u001b[43m        \u001b[49m\u001b[43mpipe_stdin\u001b[49m\u001b[38;5;241;43m=\u001b[39;49m\u001b[38;5;28;43minput\u001b[39;49m\u001b[43m \u001b[49m\u001b[38;5;129;43;01mis\u001b[39;49;00m\u001b[43m \u001b[49m\u001b[38;5;129;43;01mnot\u001b[39;49;00m\u001b[43m \u001b[49m\u001b[38;5;28;43;01mNone\u001b[39;49;00m\u001b[43m,\u001b[49m\n\u001b[0;32m    317\u001b[0m \u001b[43m        \u001b[49m\u001b[43mpipe_stdout\u001b[49m\u001b[38;5;241;43m=\u001b[39;49m\u001b[43mcapture_stdout\u001b[49m\u001b[43m,\u001b[49m\n\u001b[0;32m    318\u001b[0m \u001b[43m        \u001b[49m\u001b[43mpipe_stderr\u001b[49m\u001b[38;5;241;43m=\u001b[39;49m\u001b[43mcapture_stderr\u001b[49m\u001b[43m,\u001b[49m\n\u001b[0;32m    319\u001b[0m \u001b[43m        \u001b[49m\u001b[43mquiet\u001b[49m\u001b[38;5;241;43m=\u001b[39;49m\u001b[43mquiet\u001b[49m\u001b[43m,\u001b[49m\n\u001b[0;32m    320\u001b[0m \u001b[43m        \u001b[49m\u001b[43moverwrite_output\u001b[49m\u001b[38;5;241;43m=\u001b[39;49m\u001b[43moverwrite_output\u001b[49m\u001b[43m,\u001b[49m\n\u001b[0;32m    321\u001b[0m \u001b[43m    \u001b[49m\u001b[43m)\u001b[49m\n\u001b[0;32m    322\u001b[0m     out, err \u001b[38;5;241m=\u001b[39m process\u001b[38;5;241m.\u001b[39mcommunicate(\u001b[38;5;28minput\u001b[39m)\n\u001b[0;32m    323\u001b[0m     retcode \u001b[38;5;241m=\u001b[39m process\u001b[38;5;241m.\u001b[39mpoll()\n",
      "File \u001b[1;32md:\\Python310\\lib\\site-packages\\ffmpeg\\_run.py:284\u001b[0m, in \u001b[0;36mrun_async\u001b[1;34m(stream_spec, cmd, pipe_stdin, pipe_stdout, pipe_stderr, quiet, overwrite_output)\u001b[0m\n\u001b[0;32m    282\u001b[0m stdout_stream \u001b[38;5;241m=\u001b[39m subprocess\u001b[38;5;241m.\u001b[39mPIPE \u001b[38;5;28;01mif\u001b[39;00m pipe_stdout \u001b[38;5;129;01mor\u001b[39;00m quiet \u001b[38;5;28;01melse\u001b[39;00m \u001b[38;5;28;01mNone\u001b[39;00m\n\u001b[0;32m    283\u001b[0m stderr_stream \u001b[38;5;241m=\u001b[39m subprocess\u001b[38;5;241m.\u001b[39mPIPE \u001b[38;5;28;01mif\u001b[39;00m pipe_stderr \u001b[38;5;129;01mor\u001b[39;00m quiet \u001b[38;5;28;01melse\u001b[39;00m \u001b[38;5;28;01mNone\u001b[39;00m\n\u001b[1;32m--> 284\u001b[0m \u001b[38;5;28;01mreturn\u001b[39;00m \u001b[43msubprocess\u001b[49m\u001b[38;5;241;43m.\u001b[39;49m\u001b[43mPopen\u001b[49m\u001b[43m(\u001b[49m\n\u001b[0;32m    285\u001b[0m \u001b[43m    \u001b[49m\u001b[43margs\u001b[49m\u001b[43m,\u001b[49m\u001b[43m \u001b[49m\u001b[43mstdin\u001b[49m\u001b[38;5;241;43m=\u001b[39;49m\u001b[43mstdin_stream\u001b[49m\u001b[43m,\u001b[49m\u001b[43m \u001b[49m\u001b[43mstdout\u001b[49m\u001b[38;5;241;43m=\u001b[39;49m\u001b[43mstdout_stream\u001b[49m\u001b[43m,\u001b[49m\u001b[43m \u001b[49m\u001b[43mstderr\u001b[49m\u001b[38;5;241;43m=\u001b[39;49m\u001b[43mstderr_stream\u001b[49m\n\u001b[0;32m    286\u001b[0m \u001b[43m\u001b[49m\u001b[43m)\u001b[49m\n",
      "File \u001b[1;32md:\\Python310\\lib\\subprocess.py:966\u001b[0m, in \u001b[0;36mPopen.__init__\u001b[1;34m(self, args, bufsize, executable, stdin, stdout, stderr, preexec_fn, close_fds, shell, cwd, env, universal_newlines, startupinfo, creationflags, restore_signals, start_new_session, pass_fds, user, group, extra_groups, encoding, errors, text, umask, pipesize)\u001b[0m\n\u001b[0;32m    962\u001b[0m         \u001b[38;5;28;01mif\u001b[39;00m \u001b[38;5;28mself\u001b[39m\u001b[38;5;241m.\u001b[39mtext_mode:\n\u001b[0;32m    963\u001b[0m             \u001b[38;5;28mself\u001b[39m\u001b[38;5;241m.\u001b[39mstderr \u001b[38;5;241m=\u001b[39m io\u001b[38;5;241m.\u001b[39mTextIOWrapper(\u001b[38;5;28mself\u001b[39m\u001b[38;5;241m.\u001b[39mstderr,\n\u001b[0;32m    964\u001b[0m                     encoding\u001b[38;5;241m=\u001b[39mencoding, errors\u001b[38;5;241m=\u001b[39merrors)\n\u001b[1;32m--> 966\u001b[0m     \u001b[38;5;28;43mself\u001b[39;49m\u001b[38;5;241;43m.\u001b[39;49m\u001b[43m_execute_child\u001b[49m\u001b[43m(\u001b[49m\u001b[43margs\u001b[49m\u001b[43m,\u001b[49m\u001b[43m \u001b[49m\u001b[43mexecutable\u001b[49m\u001b[43m,\u001b[49m\u001b[43m \u001b[49m\u001b[43mpreexec_fn\u001b[49m\u001b[43m,\u001b[49m\u001b[43m \u001b[49m\u001b[43mclose_fds\u001b[49m\u001b[43m,\u001b[49m\n\u001b[0;32m    967\u001b[0m \u001b[43m                        \u001b[49m\u001b[43mpass_fds\u001b[49m\u001b[43m,\u001b[49m\u001b[43m \u001b[49m\u001b[43mcwd\u001b[49m\u001b[43m,\u001b[49m\u001b[43m \u001b[49m\u001b[43menv\u001b[49m\u001b[43m,\u001b[49m\n\u001b[0;32m    968\u001b[0m \u001b[43m                        \u001b[49m\u001b[43mstartupinfo\u001b[49m\u001b[43m,\u001b[49m\u001b[43m \u001b[49m\u001b[43mcreationflags\u001b[49m\u001b[43m,\u001b[49m\u001b[43m \u001b[49m\u001b[43mshell\u001b[49m\u001b[43m,\u001b[49m\n\u001b[0;32m    969\u001b[0m \u001b[43m                        \u001b[49m\u001b[43mp2cread\u001b[49m\u001b[43m,\u001b[49m\u001b[43m \u001b[49m\u001b[43mp2cwrite\u001b[49m\u001b[43m,\u001b[49m\n\u001b[0;32m    970\u001b[0m \u001b[43m                        \u001b[49m\u001b[43mc2pread\u001b[49m\u001b[43m,\u001b[49m\u001b[43m \u001b[49m\u001b[43mc2pwrite\u001b[49m\u001b[43m,\u001b[49m\n\u001b[0;32m    971\u001b[0m \u001b[43m                        \u001b[49m\u001b[43merrread\u001b[49m\u001b[43m,\u001b[49m\u001b[43m \u001b[49m\u001b[43merrwrite\u001b[49m\u001b[43m,\u001b[49m\n\u001b[0;32m    972\u001b[0m \u001b[43m                        \u001b[49m\u001b[43mrestore_signals\u001b[49m\u001b[43m,\u001b[49m\n\u001b[0;32m    973\u001b[0m \u001b[43m                        \u001b[49m\u001b[43mgid\u001b[49m\u001b[43m,\u001b[49m\u001b[43m \u001b[49m\u001b[43mgids\u001b[49m\u001b[43m,\u001b[49m\u001b[43m \u001b[49m\u001b[43muid\u001b[49m\u001b[43m,\u001b[49m\u001b[43m \u001b[49m\u001b[43mumask\u001b[49m\u001b[43m,\u001b[49m\n\u001b[0;32m    974\u001b[0m \u001b[43m                        \u001b[49m\u001b[43mstart_new_session\u001b[49m\u001b[43m)\u001b[49m\n\u001b[0;32m    975\u001b[0m \u001b[38;5;28;01mexcept\u001b[39;00m:\n\u001b[0;32m    976\u001b[0m     \u001b[38;5;66;03m# Cleanup if the child failed starting.\u001b[39;00m\n\u001b[0;32m    977\u001b[0m     \u001b[38;5;28;01mfor\u001b[39;00m f \u001b[38;5;129;01min\u001b[39;00m \u001b[38;5;28mfilter\u001b[39m(\u001b[38;5;28;01mNone\u001b[39;00m, (\u001b[38;5;28mself\u001b[39m\u001b[38;5;241m.\u001b[39mstdin, \u001b[38;5;28mself\u001b[39m\u001b[38;5;241m.\u001b[39mstdout, \u001b[38;5;28mself\u001b[39m\u001b[38;5;241m.\u001b[39mstderr)):\n",
      "File \u001b[1;32md:\\Python310\\lib\\subprocess.py:1435\u001b[0m, in \u001b[0;36mPopen._execute_child\u001b[1;34m(self, args, executable, preexec_fn, close_fds, pass_fds, cwd, env, startupinfo, creationflags, shell, p2cread, p2cwrite, c2pread, c2pwrite, errread, errwrite, unused_restore_signals, unused_gid, unused_gids, unused_uid, unused_umask, unused_start_new_session)\u001b[0m\n\u001b[0;32m   1433\u001b[0m \u001b[38;5;66;03m# Start the process\u001b[39;00m\n\u001b[0;32m   1434\u001b[0m \u001b[38;5;28;01mtry\u001b[39;00m:\n\u001b[1;32m-> 1435\u001b[0m     hp, ht, pid, tid \u001b[38;5;241m=\u001b[39m \u001b[43m_winapi\u001b[49m\u001b[38;5;241;43m.\u001b[39;49m\u001b[43mCreateProcess\u001b[49m\u001b[43m(\u001b[49m\u001b[43mexecutable\u001b[49m\u001b[43m,\u001b[49m\u001b[43m \u001b[49m\u001b[43margs\u001b[49m\u001b[43m,\u001b[49m\n\u001b[0;32m   1436\u001b[0m \u001b[43m                             \u001b[49m\u001b[38;5;66;43;03m# no special security\u001b[39;49;00m\n\u001b[0;32m   1437\u001b[0m \u001b[43m                             \u001b[49m\u001b[38;5;28;43;01mNone\u001b[39;49;00m\u001b[43m,\u001b[49m\u001b[43m \u001b[49m\u001b[38;5;28;43;01mNone\u001b[39;49;00m\u001b[43m,\u001b[49m\n\u001b[0;32m   1438\u001b[0m \u001b[43m                             \u001b[49m\u001b[38;5;28;43mint\u001b[39;49m\u001b[43m(\u001b[49m\u001b[38;5;129;43;01mnot\u001b[39;49;00m\u001b[43m \u001b[49m\u001b[43mclose_fds\u001b[49m\u001b[43m)\u001b[49m\u001b[43m,\u001b[49m\n\u001b[0;32m   1439\u001b[0m \u001b[43m                             \u001b[49m\u001b[43mcreationflags\u001b[49m\u001b[43m,\u001b[49m\n\u001b[0;32m   1440\u001b[0m \u001b[43m                             \u001b[49m\u001b[43menv\u001b[49m\u001b[43m,\u001b[49m\n\u001b[0;32m   1441\u001b[0m \u001b[43m                             \u001b[49m\u001b[43mcwd\u001b[49m\u001b[43m,\u001b[49m\n\u001b[0;32m   1442\u001b[0m \u001b[43m                             \u001b[49m\u001b[43mstartupinfo\u001b[49m\u001b[43m)\u001b[49m\n\u001b[0;32m   1443\u001b[0m \u001b[38;5;28;01mfinally\u001b[39;00m:\n\u001b[0;32m   1444\u001b[0m     \u001b[38;5;66;03m# Child is launched. Close the parent's copy of those pipe\u001b[39;00m\n\u001b[0;32m   1445\u001b[0m     \u001b[38;5;66;03m# handles that only the child should have open.  You need\u001b[39;00m\n\u001b[1;32m   (...)\u001b[0m\n\u001b[0;32m   1448\u001b[0m     \u001b[38;5;66;03m# pipe will not close when the child process exits and the\u001b[39;00m\n\u001b[0;32m   1449\u001b[0m     \u001b[38;5;66;03m# ReadFile will hang.\u001b[39;00m\n\u001b[0;32m   1450\u001b[0m     \u001b[38;5;28mself\u001b[39m\u001b[38;5;241m.\u001b[39m_close_pipe_fds(p2cread, p2cwrite,\n\u001b[0;32m   1451\u001b[0m                          c2pread, c2pwrite,\n\u001b[0;32m   1452\u001b[0m                          errread, errwrite)\n",
      "\u001b[1;31mFileNotFoundError\u001b[0m: [WinError 2] The system cannot find the file specified"
     ]
    }
   ],
   "source": [
    "# Extracting the photos form the videos\n",
    "extract_images_from_video('wire_video_parts', 'wire vidoe 1 12_53_09 - 12_53_18.mp4', 'wire_images_video_1')\n",
    "extract_images_from_video('wire_video_parts', 'wire vidoe 2 12_53_24 - 12_53_52.mp4', 'wire_images_video_2')\n",
    "extract_images_from_video('wire_video_parts', 'wire vidoe 3 12_53_52 - 12_54_04.mp4', 'wire_images_video_3')\n",
    "extract_images_from_video('wire_video_parts', 'wire vidoe 4 12_55_06 - 12_55_13.mp4', 'wire_images_video_4')\n",
    "extract_images_from_video('wire_video_parts', 'wire vidoe 5 12_55_24 - 12_55_35.mp4', 'wire_images_video_5')\n",
    "extract_images_from_video('wire_video_parts', 'wire vidoe 6 12_55_38 - 12_55_42.mp4', 'wire_images_video_6')\n",
    "extract_images_from_video('wire_video_parts', 'wire vidoe 7 12_55_49 - 12_55_51.mp4', 'wire_images_video_7')\n",
    "extract_images_from_video('wire_video_parts', 'wire vidoe 8 12_56_14 - 12_56_54.mp4', 'wire_images_video_8')"
   ]
  },
  {
   "cell_type": "markdown",
   "metadata": {},
   "source": [
    "# Creating Ground Truth Binary Masks For The Images"
   ]
  },
  {
   "cell_type": "code",
   "execution_count": 1,
   "metadata": {},
   "outputs": [],
   "source": [
    "import os\n",
    "import cv2\n",
    "import matplotlib.pyplot as plt\n",
    "from PIL import Image\n",
    "import json\n",
    "import numpy as np\n",
    "import imgaug as ia\n",
    "from imgaug import augmenters as iaa"
   ]
  },
  {
   "cell_type": "code",
   "execution_count": 2,
   "metadata": {},
   "outputs": [],
   "source": [
    "def plot_pair(images, gray=False):\n",
    "\n",
    "    fig, axes = plt.subplots(nrows=1, ncols=2, sharex=False, sharey=False, figsize=(10,8))\n",
    "    i=0\n",
    "    \n",
    "    for y in range(2):\n",
    "        if gray:\n",
    "            axes[y].imshow(images[i], cmap='gray')\n",
    "        else:\n",
    "            axes[y].imshow(images[i])\n",
    "        axes[y].get_xaxis().set_visible(False)\n",
    "        axes[y].get_yaxis().set_visible(False)\n",
    "        i+=1\n",
    "    \n",
    "    plt.show()\n",
    "    \n",
    "\n",
    "def get_poly(ann_path):\n",
    "    \n",
    "    with open(ann_path) as handle:\n",
    "        data = json.load(handle)\n",
    "    \n",
    "    shape_dicts = data['shapes']\n",
    "    \n",
    "    return shape_dicts\n",
    "\n",
    "\n",
    "def create_binary_masks(im, shape_dicts):\n",
    "\n",
    "    # Creates a black image of size im\n",
    "    blank = np.zeros(shape=(im.shape[0], im.shape[1]), dtype=np.float32)\n",
    "    \n",
    "    # Paints the wanted shape in white by the polygon points\n",
    "    for shape in shape_dicts:\n",
    "        points = np.array(shape['points'], dtype=np.int32)\n",
    "        cv2.fillPoly(blank, [points], 255)\n",
    "        \n",
    "    return blank"
   ]
  },
  {
   "cell_type": "code",
   "execution_count": 3,
   "metadata": {},
   "outputs": [
    {
     "data": {
      "text/plain": [
       "dict_keys(['wire_images_video_1_annotated', 'wire_images_video_2_annotated', 'wire_images_video_3_annotated', 'wire_images_video_4_annotated', 'wire_images_video_5_annotated', 'wire_images_video_6_annotated', 'wire_images_video_7_annotated', 'wire_images_video_8_annotated'])"
      ]
     },
     "execution_count": 3,
     "metadata": {},
     "output_type": "execute_result"
    }
   ],
   "source": [
    "annotation_dirs = list(filter(lambda dname: dname.endswith('annotated'),os.listdir('Img')))\n",
    "annotation_dirs = sorted(annotation_dirs, key=lambda dname: int(dname.split('_')[3]))\n",
    "annotation_dict = {dname: os.listdir(f'Img/{dname}') for dname in annotation_dirs}\n",
    "annotation_dict.keys()"
   ]
  },
  {
   "cell_type": "code",
   "execution_count": 4,
   "metadata": {},
   "outputs": [],
   "source": [
    "image_dirs = list(filter(lambda dname: dname[-1].isdigit(), os.listdir('Img')))\n",
    "image_dirs = sorted(image_dirs, key=lambda dname: int(dname[-1]))\n",
    "images_dict = {dname: os.listdir(f'Img/{dname}') for dname in image_dirs}"
   ]
  },
  {
   "cell_type": "code",
   "execution_count": 11,
   "metadata": {},
   "outputs": [
    {
     "name": "stdout",
     "output_type": "stream",
     "text": [
      "Total images: 89\n"
     ]
    }
   ],
   "source": [
    "total_images = 0\n",
    "for img_list in images_dict.values():\n",
    "    total_images += len(img_list)\n",
    "print(f\"Total images: {total_images}\") "
   ]
  },
  {
   "cell_type": "code",
   "execution_count": 12,
   "metadata": {},
   "outputs": [
    {
     "name": "stdout",
     "output_type": "stream",
     "text": [
      "Created image at: Img\\wire_images_video_1_gtmasks\\wire1_ultrasound_watertank_gtmask.png\n",
      "Created image at: Img\\wire_images_video_1_gtmasks\\wire2_ultrasound_watertank_gtmask.png\n",
      "Created image at: Img\\wire_images_video_1_gtmasks\\wire3_ultrasound_watertank_gtmask.png\n",
      "Created image at: Img\\wire_images_video_1_gtmasks\\wire4_ultrasound_watertank_gtmask.png\n",
      "Created image at: Img\\wire_images_video_1_gtmasks\\wire5_ultrasound_watertank_gtmask.png\n",
      "Created image at: Img\\wire_images_video_1_gtmasks\\wire6_ultrasound_watertank_gtmask.png\n",
      "Created image at: Img\\wire_images_video_2_gtmasks\\wire10_ultrasound_watertank_gtmask.png\n",
      "Created image at: Img\\wire_images_video_2_gtmasks\\wire11_ultrasound_watertank_gtmask.png\n",
      "Created image at: Img\\wire_images_video_2_gtmasks\\wire12_ultrasound_watertank_gtmask.png\n",
      "Created image at: Img\\wire_images_video_2_gtmasks\\wire13_ultrasound_watertank_gtmask.png\n",
      "Created image at: Img\\wire_images_video_2_gtmasks\\wire14_ultrasound_watertank_gtmask.png\n",
      "Created image at: Img\\wire_images_video_2_gtmasks\\wire15_ultrasound_watertank_gtmask.png\n",
      "Created image at: Img\\wire_images_video_2_gtmasks\\wire16_ultrasound_watertank_gtmask.png\n",
      "Created image at: Img\\wire_images_video_2_gtmasks\\wire17_ultrasound_watertank_gtmask.png\n",
      "Created image at: Img\\wire_images_video_2_gtmasks\\wire18_ultrasound_watertank_gtmask.png\n",
      "Created image at: Img\\wire_images_video_2_gtmasks\\wire19_ultrasound_watertank_gtmask.png\n",
      "Created image at: Img\\wire_images_video_2_gtmasks\\wire20_ultrasound_watertank_gtmask.png\n",
      "Created image at: Img\\wire_images_video_2_gtmasks\\wire21_ultrasound_watertank_gtmask.png\n",
      "Created image at: Img\\wire_images_video_2_gtmasks\\wire22_ultrasound_watertank_gtmask.png\n",
      "Created image at: Img\\wire_images_video_2_gtmasks\\wire23_ultrasound_watertank_gtmask.png\n",
      "Created image at: Img\\wire_images_video_2_gtmasks\\wire7_ultrasound_watertank_gtmask.png\n",
      "Created image at: Img\\wire_images_video_3_gtmasks\\wire24_ultrasound_watertank_gtmask.png\n",
      "Created image at: Img\\wire_images_video_3_gtmasks\\wire25_ultrasound_watertank_gtmask.png\n",
      "Created image at: Img\\wire_images_video_3_gtmasks\\wire26_ultrasound_watertank_gtmask.png\n",
      "Created image at: Img\\wire_images_video_3_gtmasks\\wire27_ultrasound_watertank_gtmask.png\n",
      "Created image at: Img\\wire_images_video_3_gtmasks\\wire28_ultrasound_watertank_gtmask.png\n",
      "Created image at: Img\\wire_images_video_3_gtmasks\\wire29_ultrasound_watertank_gtmask.png\n",
      "Created image at: Img\\wire_images_video_3_gtmasks\\wire30_ultrasound_watertank_gtmask.png\n",
      "Created image at: Img\\wire_images_video_3_gtmasks\\wire31_ultrasound_watertank_gtmask.png\n",
      "Created image at: Img\\wire_images_video_3_gtmasks\\wire32_ultrasound_watertank_gtmask.png\n",
      "Created image at: Img\\wire_images_video_3_gtmasks\\wire33_ultrasound_watertank_gtmask.png\n",
      "Created image at: Img\\wire_images_video_4_gtmasks\\wire38_ultrasound_watertank_gtmask.png\n",
      "Created image at: Img\\wire_images_video_4_gtmasks\\wire39_ultrasound_watertank_gtmask.png\n",
      "Created image at: Img\\wire_images_video_4_gtmasks\\wire40_ultrasound_watertank_gtmask.png\n",
      "Created image at: Img\\wire_images_video_4_gtmasks\\wire41_ultrasound_watertank_gtmask.png\n",
      "Created image at: Img\\wire_images_video_4_gtmasks\\wire42_ultrasound_watertank_gtmask.png\n",
      "Created image at: Img\\wire_images_video_4_gtmasks\\wire43_ultrasound_watertank_gtmask.png\n",
      "Created image at: Img\\wire_images_video_5_gtmasks\\wire44_ultrasound_watertank_gtmask.png\n",
      "Created image at: Img\\wire_images_video_5_gtmasks\\wire45_ultrasound_watertank_gtmask.png\n",
      "Created image at: Img\\wire_images_video_5_gtmasks\\wire46_ultrasound_watertank_gtmask.png\n",
      "Created image at: Img\\wire_images_video_5_gtmasks\\wire47_ultrasound_watertank_gtmask.png\n",
      "Created image at: Img\\wire_images_video_5_gtmasks\\wire48_ultrasound_watertank_gtmask.png\n",
      "Created image at: Img\\wire_images_video_5_gtmasks\\wire50_ultrasound_watertank_gtmask.png\n",
      "Created image at: Img\\wire_images_video_5_gtmasks\\wire51_ultrasound_watertank_gtmask.png\n",
      "Created image at: Img\\wire_images_video_6_gtmasks\\wire53_ultrasound_watertank_gtmask.png\n",
      "Created image at: Img\\wire_images_video_6_gtmasks\\wire54_ultrasound_watertank_gtmask.png\n",
      "Created image at: Img\\wire_images_video_6_gtmasks\\wire55_ultrasound_watertank_gtmask.png\n",
      "Created image at: Img\\wire_images_video_7_gtmasks\\wire57_ultrasound_watertank_gtmask.png\n",
      "Created image at: Img\\wire_images_video_7_gtmasks\\wire58_ultrasound_watertank_gtmask.png\n",
      "Created image at: Img\\wire_images_video_7_gtmasks\\wire59_ultrasound_watertank_gtmask.png\n",
      "Created image at: Img\\wire_images_video_8_gtmasks\\wire100_ultrasound_watertank_gtmask.png\n",
      "Created image at: Img\\wire_images_video_8_gtmasks\\wire60_ultrasound_watertank_gtmask.png\n",
      "Created image at: Img\\wire_images_video_8_gtmasks\\wire61_ultrasound_watertank_gtmask.png\n",
      "Created image at: Img\\wire_images_video_8_gtmasks\\wire62_ultrasound_watertank_gtmask.png\n",
      "Created image at: Img\\wire_images_video_8_gtmasks\\wire63_ultrasound_watertank_gtmask.png\n",
      "Created image at: Img\\wire_images_video_8_gtmasks\\wire64_ultrasound_watertank_gtmask.png\n",
      "Created image at: Img\\wire_images_video_8_gtmasks\\wire65_ultrasound_watertank_gtmask.png\n",
      "Created image at: Img\\wire_images_video_8_gtmasks\\wire66_ultrasound_watertank_gtmask.png\n",
      "Created image at: Img\\wire_images_video_8_gtmasks\\wire67_ultrasound_watertank_gtmask.png\n",
      "Created image at: Img\\wire_images_video_8_gtmasks\\wire68_ultrasound_watertank_gtmask.png\n",
      "Created image at: Img\\wire_images_video_8_gtmasks\\wire69_ultrasound_watertank_gtmask.png\n",
      "Created image at: Img\\wire_images_video_8_gtmasks\\wire70_ultrasound_watertank_gtmask.png\n",
      "Created image at: Img\\wire_images_video_8_gtmasks\\wire71_ultrasound_watertank_gtmask.png\n",
      "Created image at: Img\\wire_images_video_8_gtmasks\\wire72_ultrasound_watertank_gtmask.png\n",
      "Created image at: Img\\wire_images_video_8_gtmasks\\wire73_ultrasound_watertank_gtmask.png\n",
      "Created image at: Img\\wire_images_video_8_gtmasks\\wire74_ultrasound_watertank_gtmask.png\n",
      "Created image at: Img\\wire_images_video_8_gtmasks\\wire75_ultrasound_watertank_gtmask.png\n",
      "Created image at: Img\\wire_images_video_8_gtmasks\\wire76_ultrasound_watertank_gtmask.png\n",
      "Created image at: Img\\wire_images_video_8_gtmasks\\wire77_ultrasound_watertank_gtmask.png\n",
      "Created image at: Img\\wire_images_video_8_gtmasks\\wire78_ultrasound_watertank_gtmask.png\n",
      "Created image at: Img\\wire_images_video_8_gtmasks\\wire79_ultrasound_watertank_gtmask.png\n",
      "Created image at: Img\\wire_images_video_8_gtmasks\\wire80_ultrasound_watertank_gtmask.png\n",
      "Created image at: Img\\wire_images_video_8_gtmasks\\wire81_ultrasound_watertank_gtmask.png\n",
      "Created image at: Img\\wire_images_video_8_gtmasks\\wire82_ultrasound_watertank_gtmask.png\n",
      "Created image at: Img\\wire_images_video_8_gtmasks\\wire83_ultrasound_watertank_gtmask.png\n",
      "Created image at: Img\\wire_images_video_8_gtmasks\\wire84_ultrasound_watertank_gtmask.png\n",
      "Created image at: Img\\wire_images_video_8_gtmasks\\wire85_ultrasound_watertank_gtmask.png\n",
      "Created image at: Img\\wire_images_video_8_gtmasks\\wire86_ultrasound_watertank_gtmask.png\n",
      "Created image at: Img\\wire_images_video_8_gtmasks\\wire87_ultrasound_watertank_gtmask.png\n",
      "Created image at: Img\\wire_images_video_8_gtmasks\\wire88_ultrasound_watertank_gtmask.png\n",
      "Created image at: Img\\wire_images_video_8_gtmasks\\wire89_ultrasound_watertank_gtmask.png\n",
      "Created image at: Img\\wire_images_video_8_gtmasks\\wire91_ultrasound_watertank_gtmask.png\n",
      "Created image at: Img\\wire_images_video_8_gtmasks\\wire92_ultrasound_watertank_gtmask.png\n",
      "Created image at: Img\\wire_images_video_8_gtmasks\\wire94_ultrasound_watertank_gtmask.png\n",
      "Created image at: Img\\wire_images_video_8_gtmasks\\wire95_ultrasound_watertank_gtmask.png\n",
      "Created image at: Img\\wire_images_video_8_gtmasks\\wire96_ultrasound_watertank_gtmask.png\n",
      "Created image at: Img\\wire_images_video_8_gtmasks\\wire97_ultrasound_watertank_gtmask.png\n",
      "Created image at: Img\\wire_images_video_8_gtmasks\\wire98_ultrasound_watertank_gtmask.png\n",
      "Created image at: Img\\wire_images_video_8_gtmasks\\wire99_ultrasound_watertank_gtmask.png\n",
      "Total binary masks: 89\n"
     ]
    }
   ],
   "source": [
    "\n",
    "total_binary_masks = 0\n",
    "# For each image directory and the corresponding annotation directory\n",
    "for image_dir, annotation_dir in zip(images_dict, annotation_dict):\n",
    "    # Create a new directory for storing the ground truth binary masks of the corresponding image directory\n",
    "    new_directory_path = os.path.join('Img', f'{image_dir}_gtmasks')\n",
    "    os.makedirs(new_directory_path, exist_ok=True)\n",
    "    # For each image file and the corresponding annotation file\n",
    "    for image_name, annotation_name in zip(images_dict[image_dir], annotation_dict[annotation_dir]):\n",
    "        # Load the image file\n",
    "        im = cv2.imread(os.path.join(\"Img\", image_dir, image_name), 0)\n",
    "        ann_path = os.path.join('Img', annotation_dir, annotation_name)\n",
    "        # Load the polygons from the annotation file\n",
    "        shape_dicts = get_poly(ann_path)\n",
    "        # Create a binary mask for the image by the polygons\n",
    "        im_binary = create_binary_masks(im, shape_dicts)\n",
    "        \"\"\"plot_pair([im, im_binary], gray=True)\n",
    "        plt.show()\"\"\"\n",
    "        im_binary_name = image_name.split('.')[0] + \"_gtmask.png\"\n",
    "        save_path = os.path.join(new_directory_path, im_binary_name)\n",
    "        # Save the binary mask in the corresponding new directory\n",
    "        cv2.imwrite(save_path, im_binary)\n",
    "        print(f\"Created image at: {save_path}\")\n",
    "        total_binary_masks += 1\n",
    "print(f\"Total binary masks: {total_binary_masks}\")\n",
    "        "
   ]
  },
  {
   "cell_type": "markdown",
   "metadata": {},
   "source": [
    "# Next Header"
   ]
  }
 ],
 "metadata": {
  "kernelspec": {
   "display_name": "Python 3",
   "language": "python",
   "name": "python3"
  },
  "language_info": {
   "codemirror_mode": {
    "name": "ipython",
    "version": 3
   },
   "file_extension": ".py",
   "mimetype": "text/x-python",
   "name": "python",
   "nbconvert_exporter": "python",
   "pygments_lexer": "ipython3",
   "version": "3.10.0"
  }
 },
 "nbformat": 4,
 "nbformat_minor": 2
}
