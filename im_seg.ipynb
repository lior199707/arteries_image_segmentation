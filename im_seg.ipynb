{
 "cells": [
  {
   "cell_type": "markdown",
   "metadata": {},
   "source": []
  },
  {
   "cell_type": "code",
   "execution_count": null,
   "metadata": {},
   "outputs": [
    {
     "name": "stdout",
     "output_type": "stream",
     "text": [
      "Collecting ffmpeg-pythonNote: you may need to restart the kernel to use updated packages.\n",
      "\n",
      "  Using cached ffmpeg_python-0.2.0-py3-none-any.whl.metadata (1.7 kB)\n",
      "Requirement already satisfied: future in d:\\python310\\lib\\site-packages (from ffmpeg-python) (1.0.0)\n",
      "Using cached ffmpeg_python-0.2.0-py3-none-any.whl (25 kB)\n",
      "Installing collected packages: ffmpeg-python\n",
      "Successfully installed ffmpeg-python-0.2.0\n"
     ]
    },
    {
     "name": "stderr",
     "output_type": "stream",
     "text": [
      "WARNING: Ignoring invalid distribution -upyterlab (d:\\python310\\lib\\site-packages)\n",
      "WARNING: Ignoring invalid distribution -upyterlab (d:\\python310\\lib\\site-packages)\n",
      "\n",
      "[notice] A new release of pip is available: 24.0 -> 24.3.1\n",
      "[notice] To update, run: python.exe -m pip install --upgrade pip\n"
     ]
    }
   ],
   "source": "%pip install ffmpeg-python"
  },
  {
   "cell_type": "markdown",
   "metadata": {},
   "source": [
    "# Imports"
   ]
  },
  {
   "cell_type": "code",
   "metadata": {
    "ExecuteTime": {
     "end_time": "2024-12-05T02:16:36.861804Z",
     "start_time": "2024-12-05T02:16:36.502297Z"
    }
   },
   "source": [
    "import ffmpeg\n",
    "import os"
   ],
   "outputs": [],
   "execution_count": 1
  },
  {
   "cell_type": "markdown",
   "metadata": {},
   "source": [
    "# Extract Photos From Videos"
   ]
  },
  {
   "cell_type": "code",
   "execution_count": null,
   "metadata": {},
   "outputs": [],
   "source": "os.makedirs(\"Img\", exist_ok=True)"
  },
  {
   "metadata": {},
   "cell_type": "code",
   "outputs": [],
   "execution_count": null,
   "source": [
    "# Define variables\n",
    "video_folder = 'wire_video_parts'\n",
    "video_name = 'wire vidoe 1 12_53_09 - 12_53_18.mp4'\n",
    "output_folder_name = 'wire_images_video_1'\n",
    "fps = 1\n",
    "crop_width = 953\n",
    "crop_height = 700\n",
    "output_width = 1024\n",
    "output_height = 1024\n",
    "\n",
    "# Create output directory\n",
    "output_path = os.path.join('Img', output_folder_name)\n",
    "os.makedirs(output_path, exist_ok=True)\n",
    "\n",
    "# Define crop filter with scaling\n",
    "# First crop, then scale\n",
    "filter_chain = f\"crop={crop_width}:{crop_height}:647:100,scale={output_width}:{output_height}\"\n",
    "\n",
    "# Input video and output frames with cropping and scaling\n",
    "video = ffmpeg.input(os.path.join(os.getcwd(), video_folder, video_name))\n",
    "video.output(\n",
    "    os.path.join(output_path, 'frame_%04d.png'),\n",
    "    vf=f\"fps={fps},{filter_chain}\"\n",
    ").run()\n",
    "\n",
    "print(f\"Frames cropped, scaled, and saved to {output_path}\")"
   ]
  },
  {
   "cell_type": "markdown",
   "metadata": {},
   "source": [
    "# Next HEAD"
   ]
  },
  {
   "cell_type": "markdown",
   "metadata": {},
   "source": []
  },
  {
   "metadata": {
    "ExecuteTime": {
     "end_time": "2024-12-05T03:34:42.319372Z",
     "start_time": "2024-12-05T03:34:41.888375Z"
    }
   },
   "cell_type": "code",
   "source": [
    "import os\n",
    "import ffmpeg\n",
    "\n",
    "# Define variables\n",
    "video_folder = 'wire_video_parts'\n",
    "video_name = 'wire vidoe 1 12_53_09 - 12_53_18.mp4'\n",
    "output_folder_name = 'wire_images_video_1'\n",
    "fps = 1\n",
    "crop_width = 953\n",
    "crop_height = 700\n",
    "\n",
    "# Create output directory\n",
    "output_path = os.path.join('Img', output_folder_name)\n",
    "os.makedirs(output_path, exist_ok=True)\n",
    "\n",
    "# Define crop filter with adjusted offsets\n",
    "# Cropping more from the left and less from the right\n",
    "# Cropping more from the top and less from the bottom\n",
    "crop_filter = f\"crop={crop_width}:{crop_height}:647:100\"\n",
    "# Input video and output frames with cropping\n",
    "video = ffmpeg.input(os.path.join(os.getcwd(), video_folder, video_name))\n",
    "video.output(\n",
    "    os.path.join(output_path, 'frame_%04d.png'),\n",
    "    vf=f\"fps={fps},{crop_filter}\"\n",
    ").run()\n",
    "\n",
    "print(f\"Frames extracted and saved to {output_path}\")\n"
   ],
   "outputs": [
    {
     "name": "stdout",
     "output_type": "stream",
     "text": [
      "Frames extracted and saved to Img\\wire_images_video_1\n"
     ]
    }
   ],
   "execution_count": 70
  }
 ],
 "metadata": {
  "kernelspec": {
   "display_name": "Python 3",
   "language": "python",
   "name": "python3"
  },
  "language_info": {
   "codemirror_mode": {
    "name": "ipython",
    "version": 3
   },
   "file_extension": ".py",
   "mimetype": "text/x-python",
   "name": "python",
   "nbconvert_exporter": "python",
   "pygments_lexer": "ipython3",
   "version": "3.10.0"
  }
 },
 "nbformat": 4,
 "nbformat_minor": 2
}
