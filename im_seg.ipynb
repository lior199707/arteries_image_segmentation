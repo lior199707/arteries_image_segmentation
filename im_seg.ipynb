{
 "cells": [
  {
   "cell_type": "markdown",
   "metadata": {},
   "source": []
  },
  {
   "cell_type": "code",
   "execution_count": null,
   "metadata": {},
   "outputs": [
    {
     "name": "stdout",
     "output_type": "stream",
     "text": [
      "Collecting ffmpeg-pythonNote: you may need to restart the kernel to use updated packages.\n",
      "\n",
      "  Using cached ffmpeg_python-0.2.0-py3-none-any.whl.metadata (1.7 kB)\n",
      "Requirement already satisfied: future in d:\\python310\\lib\\site-packages (from ffmpeg-python) (1.0.0)\n",
      "Using cached ffmpeg_python-0.2.0-py3-none-any.whl (25 kB)\n",
      "Installing collected packages: ffmpeg-python\n",
      "Successfully installed ffmpeg-python-0.2.0\n"
     ]
    },
    {
     "name": "stderr",
     "output_type": "stream",
     "text": [
      "WARNING: Ignoring invalid distribution -upyterlab (d:\\python310\\lib\\site-packages)\n",
      "WARNING: Ignoring invalid distribution -upyterlab (d:\\python310\\lib\\site-packages)\n",
      "\n",
      "[notice] A new release of pip is available: 24.0 -> 24.3.1\n",
      "[notice] To update, run: python.exe -m pip install --upgrade pip\n"
     ]
    }
   ],
   "source": [
    "%pip install ffmpeg-python"
   ]
  },
  {
   "cell_type": "markdown",
   "metadata": {},
   "source": [
    "# Imports"
   ]
  },
  {
   "cell_type": "code",
   "execution_count": 1,
   "metadata": {},
   "outputs": [],
   "source": [
    "import ffmpeg\n",
    "import os"
   ]
  },
  {
   "cell_type": "markdown",
   "metadata": {},
   "source": [
    "# Extract Photos From Videos"
   ]
  },
  {
   "cell_type": "code",
   "execution_count": null,
   "metadata": {},
   "outputs": [],
   "source": [
    "def extract_and_resize_frames(rel_video_path, relative_output_path, fps=1, resolution=(1024, 1024)):\n",
    "    \"\"\"\n",
    "    Extracts frames from a video, resizes them to the specified resolution, and saves them as PNG files.\n",
    "\n",
    "    Args:\n",
    "        video_path (str): Path to the input video file.\n",
    "        relative_output_path (str): The path to save the extracted frames.\n",
    "        fps (int): Frames per second to extract from the video. Default is 1.\n",
    "        resolution (tuple): Desired resolution (width, height) of the frames. Default is (1024, 1024).\n",
    "\n",
    "    Returns:\n",
    "        None\n",
    "    \"\"\"\n",
    "    # Ensure the output folder exists\n",
    "    os.makedirs(relative_output_path, exist_ok=True)\n",
    "\n",
    "    # Construct the output path pattern for frames\n",
    "    output_path = os.path.join(relative_output_path, 'frame_%04d.png')\n",
    "\n",
    "    # Construct the scale filter\n",
    "    scale_filter = f'scale={resolution[0]}:{resolution[1]}'\n",
    "\n",
    "    # Run the FFmpeg command\n",
    "    ffmpeg.input(rel_video_path).output(output_path, vf=f'fps={fps},{scale_filter}').run()\n",
    "\n",
    "    print(f\"Frames extracted and saved to {relative_output_path}\")"
   ]
  },
  {
   "cell_type": "code",
   "execution_count": null,
   "metadata": {},
   "outputs": [],
   "source": [
    "os.makedirs(\"Img\", exist_ok=True)\n",
    "os.makedirs(\"Img\\wire_images_video_1\", exist_ok=True)\n",
    "os.makedirs(\"Img\\wire_images_video_2\", exist_ok=True)\n",
    "os.makedirs(\"Img\\wire_images_video_3\", exist_ok=True)\n",
    "os.makedirs(\"Img\\wire_images_video_4\", exist_ok=True)\n",
    "os.makedirs(\"Img\\wire_images_video_5\", exist_ok=True)\n",
    "os.makedirs(\"Img\\wire_images_video_6\", exist_ok=True)\n",
    "os.makedirs(\"Img\\wire_images_video_7\", exist_ok=True)\n",
    "os.makedirs(\"Img\\wire_images_video_8\", exist_ok=True)"
   ]
  },
  {
   "cell_type": "code",
   "execution_count": null,
   "metadata": {},
   "outputs": [
    {
     "name": "stdout",
     "output_type": "stream",
     "text": [
      "Current absolute path: d:\\Python projects\\arteries_image_segmentation\n",
      "dfsdfsdfsdfs\n",
      "input(filename='d:\\\\Python projects\\\\arteries_image_segmentation\\\\wire_video_parts\\\\wire vidoe 1 12_53_09 - 12_53_18.mp4')[None] <1dfd631ec408>\n"
     ]
    }
   ],
   "source": [
    "video_folder = 'wire_video_parts'\n",
    "video_name = 'wire vidoe 1 12_53_09 - 12_53_18.mp4'\n",
    "output_folder = 'wire_images_video_1'\n",
    "\n",
    "video = ffmpeg.input(os.path.join(os.getcwd(), video_folder, video_name))\n",
    "video.output()\n",
    "\n"
   ]
  },
  {
   "cell_type": "markdown",
   "metadata": {},
   "source": [
    "# Next HEAD"
   ]
  },
  {
   "cell_type": "markdown",
   "metadata": {},
   "source": []
  }
 ],
 "metadata": {
  "kernelspec": {
   "display_name": "Python 3",
   "language": "python",
   "name": "python3"
  },
  "language_info": {
   "codemirror_mode": {
    "name": "ipython",
    "version": 3
   },
   "file_extension": ".py",
   "mimetype": "text/x-python",
   "name": "python",
   "nbconvert_exporter": "python",
   "pygments_lexer": "ipython3",
   "version": "3.10.0"
  }
 },
 "nbformat": 4,
 "nbformat_minor": 2
}
